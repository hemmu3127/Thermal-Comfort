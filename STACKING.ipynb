{
 "cells": [
  {
   "cell_type": "markdown",
   "id": "aa2221af-6cf2-4854-9127-158230bdcb14",
   "metadata": {},
   "source": [
    "## Input Necessary Libraries"
   ]
  },
  {
   "cell_type": "code",
   "execution_count": null,
   "id": "58151203-0ec0-4229-bb70-d3daa02614da",
   "metadata": {},
   "outputs": [],
   "source": [
    "# LOADING THE NECESSARY LIBRARIES\n",
    "\n",
    "import pandas as pd\n",
    "import numpy as np\n",
    "from sklearn.model_selection import train_test_split\n",
    "from sklearn.preprocessing import StandardScaler, LabelEncoder\n",
    "import torch\n",
    "import torch.nn as nn\n",
    "import torch.optim as optim\n",
    "from sklearn.linear_model import LogisticRegression\n",
    "from sklearn.metrics import accuracy_score\n",
    "\n"
   ]
  },
  {
   "cell_type": "markdown",
   "id": "64bf5ae2-d804-4613-8c12-57fd2486e21b",
   "metadata": {},
   "source": [
    "## Load the Dataset"
   ]
  },
  {
   "cell_type": "code",
   "execution_count": null,
   "id": "2eede564-2945-42fe-9dcb-958495d76d90",
   "metadata": {},
   "outputs": [],
   "source": [
    "# Load the data\n",
    "data = pd.read_csv('/content/final_Ashrae.xls')  # Replace with your actual file path\n"
   ]
  },
  {
   "cell_type": "markdown",
   "id": "f63224e2-ea7b-43ee-941c-caeb6ba5767f",
   "metadata": {},
   "source": [
    "## Data Preprocessing"
   ]
  },
  {
   "cell_type": "code",
   "execution_count": null,
   "id": "25d96be5-8fd7-4d68-babf-9db1ea236f2f",
   "metadata": {},
   "outputs": [],
   "source": [
    "\n",
    "# Encode categorical features\n",
    "categorical_features = ['Season', 'Building type', 'Cooling startegy_building level', 'Climate',\n",
    "                        'Koppen climate classification', 'Country', 'Thermal sensation']\n",
    "label_encoders = {}\n",
    "\n",
    "for col in categorical_features:\n",
    "    le = LabelEncoder()\n",
    "    data[col] = le.fit_transform(data[col])\n",
    "    label_encoders[col] = le\n",
    "\n",
    "# Encode the target variable 'Thermal preference'\n",
    "target_encoder = LabelEncoder()\n",
    "data['Thermal preference'] = target_encoder.fit_transform(data['Thermal preference'])\n",
    "\n"
   ]
  },
  {
   "cell_type": "markdown",
   "id": "14ea3110-b78c-4785-80e1-d4df5895f2c3",
   "metadata": {},
   "source": [
    "## Scaling the data "
   ]
  },
  {
   "cell_type": "code",
   "execution_count": null,
   "id": "a12417d4-1495-4236-a1a1-cc1373a4e359",
   "metadata": {},
   "outputs": [],
   "source": [
    "# Separate features and target\n",
    "X = data.drop(columns=['Thermal preference'])\n",
    "y = data['Thermal preference']\n",
    "\n",
    "# Scale numerical features\n",
    "scaler = StandardScaler()\n",
    "X = scaler.fit_transform(X)\n"
   ]
  },
  {
   "cell_type": "markdown",
   "id": "1c63421d-b665-4aff-a799-09217edbaab1",
   "metadata": {},
   "source": [
    "## Split the data and convert to pytorch tensors"
   ]
  },
  {
   "cell_type": "code",
   "execution_count": null,
   "id": "07f09540-78e7-47fd-acb2-9b8ad05e061a",
   "metadata": {},
   "outputs": [],
   "source": [
    "X_train, X_test, y_train, y_test = train_test_split(X, y, test_size=0.2, random_state=42)\n",
    "X_train_tensor = torch.tensor(X_train, dtype=torch.float32)\n",
    "X_test_tensor = torch.tensor(X_test, dtype=torch.float32)\n",
    "y_train_tensor = torch.tensor(y_train, dtype=torch.long)\n",
    "y_test_tensor = torch.tensor(y_test, dtype=torch.long)\n",
    "\n"
   ]
  },
  {
   "cell_type": "code",
   "execution_count": null,
   "id": "93653aac-de16-4b88-9fa7-4f36007e608e",
   "metadata": {},
   "outputs": [],
   "source": []
  },
  {
   "cell_type": "code",
   "execution_count": null,
   "id": "b29e77db-bbf3-485a-89ad-642f59616de7",
   "metadata": {},
   "outputs": [],
   "source": []
  },
  {
   "cell_type": "code",
   "execution_count": null,
   "id": "de7d16f4-ff36-43b5-b831-a4571518778f",
   "metadata": {},
   "outputs": [],
   "source": []
  }
 ],
 "metadata": {
  "kernelspec": {
   "display_name": "Python 3 (ipykernel)",
   "language": "python",
   "name": "python3"
  },
  "language_info": {
   "codemirror_mode": {
    "name": "ipython",
    "version": 3
   },
   "file_extension": ".py",
   "mimetype": "text/x-python",
   "name": "python",
   "nbconvert_exporter": "python",
   "pygments_lexer": "ipython3",
   "version": "3.12.4"
  }
 },
 "nbformat": 4,
 "nbformat_minor": 5
}
